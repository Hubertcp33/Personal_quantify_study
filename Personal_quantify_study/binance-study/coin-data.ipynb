{
 "cells": [
  {
   "cell_type": "code",
   "execution_count": 28,
   "id": "d9cf9679-51b1-44b1-8d66-2149f5d46d0f",
   "metadata": {},
   "outputs": [],
   "source": [
    "import datetime \n",
    "import t2 as cdu\n",
    "import pandas as pd\n",
    "import matplotlib.pyplot as plt\n",
    "from pandas.plotting import scatter_matrix"
   ]
  },
  {
   "cell_type": "code",
   "execution_count": null,
   "id": "5965d985-ff05-4f1a-99fa-631b153e5971",
   "metadata": {},
   "outputs": [],
   "source": []
  },
  {
   "cell_type": "code",
   "execution_count": 8,
   "id": "c3dc5a36-da35-4193-aa09-66d02b080497",
   "metadata": {},
   "outputs": [
    {
     "name": "stderr",
     "output_type": "stream",
     "text": [
      "C:\\Users\\61445\\量化\\st\\ok\\t2.py:28: FutureWarning: The behavior of 'to_datetime' with 'unit' when parsing strings is deprecated. In a future version, strings will be parsed as datetime strings, matching the behavior without a 'unit'. To retain the old behavior, explicitly cast ints or floats to numeric type before calling to_datetime.\n",
      "  kline_df['datetime'] = pd.to_datetime(kline_df['datetime'], unit='ms')\n",
      "C:\\Users\\61445\\量化\\st\\ok\\t2.py:28: FutureWarning: The behavior of 'to_datetime' with 'unit' when parsing strings is deprecated. In a future version, strings will be parsed as datetime strings, matching the behavior without a 'unit'. To retain the old behavior, explicitly cast ints or floats to numeric type before calling to_datetime.\n",
      "  kline_df['datetime'] = pd.to_datetime(kline_df['datetime'], unit='ms')\n",
      "C:\\Users\\61445\\量化\\st\\ok\\t2.py:28: FutureWarning: The behavior of 'to_datetime' with 'unit' when parsing strings is deprecated. In a future version, strings will be parsed as datetime strings, matching the behavior without a 'unit'. To retain the old behavior, explicitly cast ints or floats to numeric type before calling to_datetime.\n",
      "  kline_df['datetime'] = pd.to_datetime(kline_df['datetime'], unit='ms')\n"
     ]
    }
   ],
   "source": [
    "btc_df = cdu.get_single_kline_data(symbol='BTC-USD')\n",
    "eth_df = cdu.get_single_kline_data(symbol='ETH-USD')\n",
    "doge_df = cdu.get_single_kline_data(symbol='DOGE-USDT')"
   ]
  },
  {
   "cell_type": "code",
   "execution_count": 9,
   "id": "1bd030ae-d1e9-4eaa-81c7-638e5dcf2541",
   "metadata": {},
   "outputs": [
    {
     "data": {
      "text/html": [
       "<div>\n",
       "<style scoped>\n",
       "    .dataframe tbody tr th:only-of-type {\n",
       "        vertical-align: middle;\n",
       "    }\n",
       "\n",
       "    .dataframe tbody tr th {\n",
       "        vertical-align: top;\n",
       "    }\n",
       "\n",
       "    .dataframe thead th {\n",
       "        text-align: right;\n",
       "    }\n",
       "</style>\n",
       "<table border=\"1\" class=\"dataframe\">\n",
       "  <thead>\n",
       "    <tr style=\"text-align: right;\">\n",
       "      <th></th>\n",
       "      <th>datetime</th>\n",
       "      <th>开盘价格</th>\n",
       "      <th>最高价格</th>\n",
       "      <th>最低价格</th>\n",
       "      <th>收盘价格</th>\n",
       "      <th>交易量</th>\n",
       "      <th>计价货币的数量</th>\n",
       "      <th>计价货币为单位</th>\n",
       "      <th>K线状态</th>\n",
       "      <th>symbol</th>\n",
       "    </tr>\n",
       "  </thead>\n",
       "  <tbody>\n",
       "    <tr>\n",
       "      <th>0</th>\n",
       "      <td>2025-01-07 16:00:00</td>\n",
       "      <td>97822.8</td>\n",
       "      <td>98304.6</td>\n",
       "      <td>95237.5</td>\n",
       "      <td>95682.6</td>\n",
       "      <td>92.07542411</td>\n",
       "      <td>8892098.563221674</td>\n",
       "      <td>8892098.563221674</td>\n",
       "      <td>0</td>\n",
       "      <td>BTC-USD</td>\n",
       "    </tr>\n",
       "    <tr>\n",
       "      <th>1</th>\n",
       "      <td>2025-01-06 16:00:00</td>\n",
       "      <td>102214</td>\n",
       "      <td>102796.7</td>\n",
       "      <td>97167.9</td>\n",
       "      <td>97932.9</td>\n",
       "      <td>78.49438041</td>\n",
       "      <td>7930432.967005267</td>\n",
       "      <td>7930432.967005267</td>\n",
       "      <td>1</td>\n",
       "      <td>BTC-USD</td>\n",
       "    </tr>\n",
       "    <tr>\n",
       "      <th>2</th>\n",
       "      <td>2025-01-05 16:00:00</td>\n",
       "      <td>98071.2</td>\n",
       "      <td>102500.2</td>\n",
       "      <td>97618.4</td>\n",
       "      <td>102188.6</td>\n",
       "      <td>67.0522045</td>\n",
       "      <td>6665735.319641713</td>\n",
       "      <td>6665735.319641713</td>\n",
       "      <td>1</td>\n",
       "      <td>BTC-USD</td>\n",
       "    </tr>\n",
       "    <tr>\n",
       "      <th>3</th>\n",
       "      <td>2025-01-04 16:00:00</td>\n",
       "      <td>97679.7</td>\n",
       "      <td>98637.2</td>\n",
       "      <td>97330.8</td>\n",
       "      <td>98131.7</td>\n",
       "      <td>22.3969427</td>\n",
       "      <td>2196509.914869355</td>\n",
       "      <td>2196509.914869355</td>\n",
       "      <td>1</td>\n",
       "      <td>BTC-USD</td>\n",
       "    </tr>\n",
       "    <tr>\n",
       "      <th>4</th>\n",
       "      <td>2025-01-03 16:00:00</td>\n",
       "      <td>97593.4</td>\n",
       "      <td>98968.7</td>\n",
       "      <td>97382.3</td>\n",
       "      <td>97718.8</td>\n",
       "      <td>40.48224651</td>\n",
       "      <td>3972832.113492908</td>\n",
       "      <td>3972832.113492908</td>\n",
       "      <td>1</td>\n",
       "      <td>BTC-USD</td>\n",
       "    </tr>\n",
       "  </tbody>\n",
       "</table>\n",
       "</div>"
      ],
      "text/plain": [
       "             datetime     开盘价格      最高价格     最低价格      收盘价格          交易量            计价货币的数量            计价货币为单位 K线状态   symbol\n",
       "0 2025-01-07 16:00:00  97822.8   98304.6  95237.5   95682.6  92.07542411  8892098.563221674  8892098.563221674    0  BTC-USD\n",
       "1 2025-01-06 16:00:00   102214  102796.7  97167.9   97932.9  78.49438041  7930432.967005267  7930432.967005267    1  BTC-USD\n",
       "2 2025-01-05 16:00:00  98071.2  102500.2  97618.4  102188.6   67.0522045  6665735.319641713  6665735.319641713    1  BTC-USD\n",
       "3 2025-01-04 16:00:00  97679.7   98637.2  97330.8   98131.7   22.3969427  2196509.914869355  2196509.914869355    1  BTC-USD\n",
       "4 2025-01-03 16:00:00  97593.4   98968.7  97382.3   97718.8  40.48224651  3972832.113492908  3972832.113492908    1  BTC-USD"
      ]
     },
     "execution_count": 9,
     "metadata": {},
     "output_type": "execute_result"
    }
   ],
   "source": [
    "btc_df.head()"
   ]
  },
  {
   "cell_type": "code",
   "execution_count": 10,
   "id": "d0bdb1c9-2dbd-4a48-b7aa-7db18f98da15",
   "metadata": {},
   "outputs": [
    {
     "data": {
      "text/html": [
       "<div>\n",
       "<style scoped>\n",
       "    .dataframe tbody tr th:only-of-type {\n",
       "        vertical-align: middle;\n",
       "    }\n",
       "\n",
       "    .dataframe tbody tr th {\n",
       "        vertical-align: top;\n",
       "    }\n",
       "\n",
       "    .dataframe thead th {\n",
       "        text-align: right;\n",
       "    }\n",
       "</style>\n",
       "<table border=\"1\" class=\"dataframe\">\n",
       "  <thead>\n",
       "    <tr style=\"text-align: right;\">\n",
       "      <th></th>\n",
       "      <th>datetime</th>\n",
       "      <th>开盘价格</th>\n",
       "      <th>最高价格</th>\n",
       "      <th>最低价格</th>\n",
       "      <th>收盘价格</th>\n",
       "      <th>交易量</th>\n",
       "      <th>计价货币的数量</th>\n",
       "      <th>计价货币为单位</th>\n",
       "      <th>K线状态</th>\n",
       "      <th>symbol</th>\n",
       "    </tr>\n",
       "  </thead>\n",
       "  <tbody>\n",
       "    <tr>\n",
       "      <th>0</th>\n",
       "      <td>2025-01-07 16:00:00</td>\n",
       "      <td>3461.33</td>\n",
       "      <td>3490.54</td>\n",
       "      <td>3306.73</td>\n",
       "      <td>3349.59</td>\n",
       "      <td>2544.070567</td>\n",
       "      <td>8591592.67586793</td>\n",
       "      <td>8591592.67586793</td>\n",
       "      <td>0</td>\n",
       "      <td>ETH-USD</td>\n",
       "    </tr>\n",
       "    <tr>\n",
       "      <th>1</th>\n",
       "      <td>2025-01-06 16:00:00</td>\n",
       "      <td>3716.92</td>\n",
       "      <td>3746.3</td>\n",
       "      <td>3412.92</td>\n",
       "      <td>3463.92</td>\n",
       "      <td>2007.477298</td>\n",
       "      <td>7261091.47475419</td>\n",
       "      <td>7261091.47475419</td>\n",
       "      <td>1</td>\n",
       "      <td>ETH-USD</td>\n",
       "    </tr>\n",
       "    <tr>\n",
       "      <th>2</th>\n",
       "      <td>2025-01-05 16:00:00</td>\n",
       "      <td>3628.01</td>\n",
       "      <td>3714.96</td>\n",
       "      <td>3613.7</td>\n",
       "      <td>3714.96</td>\n",
       "      <td>1014.543288</td>\n",
       "      <td>3712086.25977636</td>\n",
       "      <td>3712086.25977636</td>\n",
       "      <td>1</td>\n",
       "      <td>ETH-USD</td>\n",
       "    </tr>\n",
       "    <tr>\n",
       "      <th>3</th>\n",
       "      <td>2025-01-04 16:00:00</td>\n",
       "      <td>3618.74</td>\n",
       "      <td>3675.35</td>\n",
       "      <td>3596.38</td>\n",
       "      <td>3629.3</td>\n",
       "      <td>991.600052</td>\n",
       "      <td>3603388.77421678</td>\n",
       "      <td>3603388.77421678</td>\n",
       "      <td>1</td>\n",
       "      <td>ETH-USD</td>\n",
       "    </tr>\n",
       "    <tr>\n",
       "      <th>4</th>\n",
       "      <td>2025-01-03 16:00:00</td>\n",
       "      <td>3567.17</td>\n",
       "      <td>3662.66</td>\n",
       "      <td>3567.17</td>\n",
       "      <td>3611.55</td>\n",
       "      <td>1320.092792</td>\n",
       "      <td>4761411.02996023</td>\n",
       "      <td>4761411.02996023</td>\n",
       "      <td>1</td>\n",
       "      <td>ETH-USD</td>\n",
       "    </tr>\n",
       "  </tbody>\n",
       "</table>\n",
       "</div>"
      ],
      "text/plain": [
       "             datetime     开盘价格     最高价格     最低价格     收盘价格          交易量           计价货币的数量           计价货币为单位 K线状态   symbol\n",
       "0 2025-01-07 16:00:00  3461.33  3490.54  3306.73  3349.59  2544.070567  8591592.67586793  8591592.67586793    0  ETH-USD\n",
       "1 2025-01-06 16:00:00  3716.92   3746.3  3412.92  3463.92  2007.477298  7261091.47475419  7261091.47475419    1  ETH-USD\n",
       "2 2025-01-05 16:00:00  3628.01  3714.96   3613.7  3714.96  1014.543288  3712086.25977636  3712086.25977636    1  ETH-USD\n",
       "3 2025-01-04 16:00:00  3618.74  3675.35  3596.38   3629.3   991.600052  3603388.77421678  3603388.77421678    1  ETH-USD\n",
       "4 2025-01-03 16:00:00  3567.17  3662.66  3567.17  3611.55  1320.092792  4761411.02996023  4761411.02996023    1  ETH-USD"
      ]
     },
     "execution_count": 10,
     "metadata": {},
     "output_type": "execute_result"
    }
   ],
   "source": [
    "eth_df.head()"
   ]
  },
  {
   "cell_type": "code",
   "execution_count": 11,
   "id": "7e4c2a7c-f928-421e-bb4a-6e672660db82",
   "metadata": {},
   "outputs": [
    {
     "data": {
      "text/html": [
       "<div>\n",
       "<style scoped>\n",
       "    .dataframe tbody tr th:only-of-type {\n",
       "        vertical-align: middle;\n",
       "    }\n",
       "\n",
       "    .dataframe tbody tr th {\n",
       "        vertical-align: top;\n",
       "    }\n",
       "\n",
       "    .dataframe thead th {\n",
       "        text-align: right;\n",
       "    }\n",
       "</style>\n",
       "<table border=\"1\" class=\"dataframe\">\n",
       "  <thead>\n",
       "    <tr style=\"text-align: right;\">\n",
       "      <th></th>\n",
       "      <th>datetime</th>\n",
       "      <th>开盘价格</th>\n",
       "      <th>最高价格</th>\n",
       "      <th>最低价格</th>\n",
       "      <th>收盘价格</th>\n",
       "      <th>交易量</th>\n",
       "      <th>计价货币的数量</th>\n",
       "      <th>计价货币为单位</th>\n",
       "      <th>K线状态</th>\n",
       "      <th>symbol</th>\n",
       "    </tr>\n",
       "  </thead>\n",
       "  <tbody>\n",
       "    <tr>\n",
       "      <th>0</th>\n",
       "      <td>2025-01-07 16:00:00</td>\n",
       "      <td>0.36399</td>\n",
       "      <td>0.3695</td>\n",
       "      <td>0.33901</td>\n",
       "      <td>0.34822</td>\n",
       "      <td>833093085.314962</td>\n",
       "      <td>293595858.56076992124</td>\n",
       "      <td>293595858.56076992124</td>\n",
       "      <td>0</td>\n",
       "      <td>DOGE-USDT</td>\n",
       "    </tr>\n",
       "    <tr>\n",
       "      <th>1</th>\n",
       "      <td>2025-01-06 16:00:00</td>\n",
       "      <td>0.38951</td>\n",
       "      <td>0.39833</td>\n",
       "      <td>0.35684</td>\n",
       "      <td>0.3639</td>\n",
       "      <td>1053092867.610596</td>\n",
       "      <td>401694078.90090598637</td>\n",
       "      <td>401694078.90090598637</td>\n",
       "      <td>1</td>\n",
       "      <td>DOGE-USDT</td>\n",
       "    </tr>\n",
       "    <tr>\n",
       "      <th>2</th>\n",
       "      <td>2025-01-05 16:00:00</td>\n",
       "      <td>0.38363</td>\n",
       "      <td>0.39338</td>\n",
       "      <td>0.37575</td>\n",
       "      <td>0.38948</td>\n",
       "      <td>661565913.592557</td>\n",
       "      <td>255166864.55812160038</td>\n",
       "      <td>255166864.55812160038</td>\n",
       "      <td>1</td>\n",
       "      <td>DOGE-USDT</td>\n",
       "    </tr>\n",
       "    <tr>\n",
       "      <th>3</th>\n",
       "      <td>2025-01-04 16:00:00</td>\n",
       "      <td>0.3794</td>\n",
       "      <td>0.39875</td>\n",
       "      <td>0.37522</td>\n",
       "      <td>0.38359</td>\n",
       "      <td>663328045.446858</td>\n",
       "      <td>256590078.24087436825</td>\n",
       "      <td>256590078.24087436825</td>\n",
       "      <td>1</td>\n",
       "      <td>DOGE-USDT</td>\n",
       "    </tr>\n",
       "    <tr>\n",
       "      <th>4</th>\n",
       "      <td>2025-01-03 16:00:00</td>\n",
       "      <td>0.36611</td>\n",
       "      <td>0.39524</td>\n",
       "      <td>0.36448</td>\n",
       "      <td>0.37943</td>\n",
       "      <td>1113708377.202061</td>\n",
       "      <td>427953563.36523446195</td>\n",
       "      <td>427953563.36523446195</td>\n",
       "      <td>1</td>\n",
       "      <td>DOGE-USDT</td>\n",
       "    </tr>\n",
       "  </tbody>\n",
       "</table>\n",
       "</div>"
      ],
      "text/plain": [
       "             datetime     开盘价格     最高价格     最低价格     收盘价格                交易量                计价货币的数量                计价货币为单位 K线状态     symbol\n",
       "0 2025-01-07 16:00:00  0.36399   0.3695  0.33901  0.34822   833093085.314962  293595858.56076992124  293595858.56076992124    0  DOGE-USDT\n",
       "1 2025-01-06 16:00:00  0.38951  0.39833  0.35684   0.3639  1053092867.610596  401694078.90090598637  401694078.90090598637    1  DOGE-USDT\n",
       "2 2025-01-05 16:00:00  0.38363  0.39338  0.37575  0.38948   661565913.592557  255166864.55812160038  255166864.55812160038    1  DOGE-USDT\n",
       "3 2025-01-04 16:00:00   0.3794  0.39875  0.37522  0.38359   663328045.446858  256590078.24087436825  256590078.24087436825    1  DOGE-USDT\n",
       "4 2025-01-03 16:00:00  0.36611  0.39524  0.36448  0.37943  1113708377.202061  427953563.36523446195  427953563.36523446195    1  DOGE-USDT"
      ]
     },
     "execution_count": 11,
     "metadata": {},
     "output_type": "execute_result"
    }
   ],
   "source": [
    "doge_df.head()"
   ]
  },
  {
   "cell_type": "code",
   "execution_count": 12,
   "id": "de5c430e-d436-48f5-832b-67bf31b3f0cb",
   "metadata": {},
   "outputs": [],
   "source": [
    "btc_df.to_csv('./btc.csv', index=False)\n",
    "eth_df.to_csv('./eth.csv', index=False)\n",
    "doge_df.to_csv('./doge.csv', index=False)"
   ]
  },
  {
   "cell_type": "code",
   "execution_count": 15,
   "id": "c1d17d9d-b754-4223-ab69-c36857d4fc0d",
   "metadata": {
    "scrolled": true
   },
   "outputs": [],
   "source": [
    "btc_df = pd.read_csv('./btc.csv', index_col='datetime', parse_dates=True)\n",
    "eth_df = pd.read_csv('./eth.csv', index_col='datetime', parse_dates=True)\n",
    "doge_df = pd.read_csv('./doge.csv', index_col='datetime', parse_dates=True)"
   ]
  },
  {
   "cell_type": "code",
   "execution_count": 16,
   "id": "953b950d-beb0-4a18-a9d2-3d486a847e8e",
   "metadata": {},
   "outputs": [
    {
     "data": {
      "text/html": [
       "<div>\n",
       "<style scoped>\n",
       "    .dataframe tbody tr th:only-of-type {\n",
       "        vertical-align: middle;\n",
       "    }\n",
       "\n",
       "    .dataframe tbody tr th {\n",
       "        vertical-align: top;\n",
       "    }\n",
       "\n",
       "    .dataframe thead th {\n",
       "        text-align: right;\n",
       "    }\n",
       "</style>\n",
       "<table border=\"1\" class=\"dataframe\">\n",
       "  <thead>\n",
       "    <tr style=\"text-align: right;\">\n",
       "      <th></th>\n",
       "      <th>开盘价格</th>\n",
       "      <th>最高价格</th>\n",
       "      <th>最低价格</th>\n",
       "      <th>收盘价格</th>\n",
       "      <th>交易量</th>\n",
       "      <th>计价货币的数量</th>\n",
       "      <th>计价货币为单位</th>\n",
       "      <th>K线状态</th>\n",
       "      <th>symbol</th>\n",
       "    </tr>\n",
       "    <tr>\n",
       "      <th>datetime</th>\n",
       "      <th></th>\n",
       "      <th></th>\n",
       "      <th></th>\n",
       "      <th></th>\n",
       "      <th></th>\n",
       "      <th></th>\n",
       "      <th></th>\n",
       "      <th></th>\n",
       "      <th></th>\n",
       "    </tr>\n",
       "  </thead>\n",
       "  <tbody>\n",
       "  </tbody>\n",
       "</table>\n",
       "</div>"
      ],
      "text/plain": [
       "Empty DataFrame\n",
       "Columns: [开盘价格, 最高价格, 最低价格, 收盘价格, 交易量, 计价货币的数量, 计价货币为单位, K线状态, symbol]\n",
       "Index: []"
      ]
     },
     "execution_count": 16,
     "metadata": {},
     "output_type": "execute_result"
    }
   ],
   "source": [
    "btc_df[btc_df.index.duplicated()]"
   ]
  },
  {
   "cell_type": "code",
   "execution_count": 17,
   "id": "fb378ce5-2522-4c78-8faf-216782176cb8",
   "metadata": {},
   "outputs": [
    {
     "data": {
      "text/html": [
       "<div>\n",
       "<style scoped>\n",
       "    .dataframe tbody tr th:only-of-type {\n",
       "        vertical-align: middle;\n",
       "    }\n",
       "\n",
       "    .dataframe tbody tr th {\n",
       "        vertical-align: top;\n",
       "    }\n",
       "\n",
       "    .dataframe thead th {\n",
       "        text-align: right;\n",
       "    }\n",
       "</style>\n",
       "<table border=\"1\" class=\"dataframe\">\n",
       "  <thead>\n",
       "    <tr style=\"text-align: right;\">\n",
       "      <th></th>\n",
       "      <th>开盘价格</th>\n",
       "      <th>最高价格</th>\n",
       "      <th>最低价格</th>\n",
       "      <th>收盘价格</th>\n",
       "      <th>交易量</th>\n",
       "      <th>计价货币的数量</th>\n",
       "      <th>计价货币为单位</th>\n",
       "      <th>K线状态</th>\n",
       "      <th>symbol</th>\n",
       "    </tr>\n",
       "    <tr>\n",
       "      <th>datetime</th>\n",
       "      <th></th>\n",
       "      <th></th>\n",
       "      <th></th>\n",
       "      <th></th>\n",
       "      <th></th>\n",
       "      <th></th>\n",
       "      <th></th>\n",
       "      <th></th>\n",
       "      <th></th>\n",
       "    </tr>\n",
       "  </thead>\n",
       "  <tbody>\n",
       "  </tbody>\n",
       "</table>\n",
       "</div>"
      ],
      "text/plain": [
       "Empty DataFrame\n",
       "Columns: [开盘价格, 最高价格, 最低价格, 收盘价格, 交易量, 计价货币的数量, 计价货币为单位, K线状态, symbol]\n",
       "Index: []"
      ]
     },
     "execution_count": 17,
     "metadata": {},
     "output_type": "execute_result"
    }
   ],
   "source": [
    "eth_df [eth_df.index.duplicated()]"
   ]
  },
  {
   "cell_type": "code",
   "execution_count": 18,
   "id": "1500962a-265c-4aa7-872f-7f7b5ebbb429",
   "metadata": {},
   "outputs": [
    {
     "data": {
      "text/html": [
       "<div>\n",
       "<style scoped>\n",
       "    .dataframe tbody tr th:only-of-type {\n",
       "        vertical-align: middle;\n",
       "    }\n",
       "\n",
       "    .dataframe tbody tr th {\n",
       "        vertical-align: top;\n",
       "    }\n",
       "\n",
       "    .dataframe thead th {\n",
       "        text-align: right;\n",
       "    }\n",
       "</style>\n",
       "<table border=\"1\" class=\"dataframe\">\n",
       "  <thead>\n",
       "    <tr style=\"text-align: right;\">\n",
       "      <th></th>\n",
       "      <th>开盘价格</th>\n",
       "      <th>最高价格</th>\n",
       "      <th>最低价格</th>\n",
       "      <th>收盘价格</th>\n",
       "      <th>交易量</th>\n",
       "      <th>计价货币的数量</th>\n",
       "      <th>计价货币为单位</th>\n",
       "      <th>K线状态</th>\n",
       "      <th>symbol</th>\n",
       "    </tr>\n",
       "    <tr>\n",
       "      <th>datetime</th>\n",
       "      <th></th>\n",
       "      <th></th>\n",
       "      <th></th>\n",
       "      <th></th>\n",
       "      <th></th>\n",
       "      <th></th>\n",
       "      <th></th>\n",
       "      <th></th>\n",
       "      <th></th>\n",
       "    </tr>\n",
       "  </thead>\n",
       "  <tbody>\n",
       "  </tbody>\n",
       "</table>\n",
       "</div>"
      ],
      "text/plain": [
       "Empty DataFrame\n",
       "Columns: [开盘价格, 最高价格, 最低价格, 收盘价格, 交易量, 计价货币的数量, 计价货币为单位, K线状态, symbol]\n",
       "Index: []"
      ]
     },
     "execution_count": 18,
     "metadata": {},
     "output_type": "execute_result"
    }
   ],
   "source": [
    "doge_df [doge_df.index.duplicated()]"
   ]
  },
  {
   "cell_type": "code",
   "execution_count": 26,
   "id": "9b6a7a16-7450-4f75-922a-3a99512baca5",
   "metadata": {},
   "outputs": [
    {
     "data": {
      "text/plain": [
       "<matplotlib.legend.Legend at 0x22da64d0320>"
      ]
     },
     "execution_count": 26,
     "metadata": {},
     "output_type": "execute_result"
    },
    {
     "name": "stderr",
     "output_type": "stream",
     "text": [
      "C:\\ProgramData\\anaconda3\\Lib\\site-packages\\IPython\\core\\events.py:82: UserWarning: Glyph 25910 (\\N{CJK UNIFIED IDEOGRAPH-6536}) missing from font(s) DejaVu Sans.\n",
      "  func(*args, **kwargs)\n",
      "C:\\ProgramData\\anaconda3\\Lib\\site-packages\\IPython\\core\\events.py:82: UserWarning: Glyph 30424 (\\N{CJK UNIFIED IDEOGRAPH-76D8}) missing from font(s) DejaVu Sans.\n",
      "  func(*args, **kwargs)\n",
      "C:\\ProgramData\\anaconda3\\Lib\\site-packages\\IPython\\core\\events.py:82: UserWarning: Glyph 20215 (\\N{CJK UNIFIED IDEOGRAPH-4EF7}) missing from font(s) DejaVu Sans.\n",
      "  func(*args, **kwargs)\n",
      "C:\\ProgramData\\anaconda3\\Lib\\site-packages\\IPython\\core\\events.py:82: UserWarning: Glyph 26684 (\\N{CJK UNIFIED IDEOGRAPH-683C}) missing from font(s) DejaVu Sans.\n",
      "  func(*args, **kwargs)\n",
      "C:\\ProgramData\\anaconda3\\Lib\\site-packages\\IPython\\core\\pylabtools.py:170: UserWarning: Glyph 25910 (\\N{CJK UNIFIED IDEOGRAPH-6536}) missing from font(s) DejaVu Sans.\n",
      "  fig.canvas.print_figure(bytes_io, **kw)\n",
      "C:\\ProgramData\\anaconda3\\Lib\\site-packages\\IPython\\core\\pylabtools.py:170: UserWarning: Glyph 30424 (\\N{CJK UNIFIED IDEOGRAPH-76D8}) missing from font(s) DejaVu Sans.\n",
      "  fig.canvas.print_figure(bytes_io, **kw)\n",
      "C:\\ProgramData\\anaconda3\\Lib\\site-packages\\IPython\\core\\pylabtools.py:170: UserWarning: Glyph 20215 (\\N{CJK UNIFIED IDEOGRAPH-4EF7}) missing from font(s) DejaVu Sans.\n",
      "  fig.canvas.print_figure(bytes_io, **kw)\n",
      "C:\\ProgramData\\anaconda3\\Lib\\site-packages\\IPython\\core\\pylabtools.py:170: UserWarning: Glyph 26684 (\\N{CJK UNIFIED IDEOGRAPH-683C}) missing from font(s) DejaVu Sans.\n",
      "  fig.canvas.print_figure(bytes_io, **kw)\n"
     ]
    },
    {
     "data": {
      "image/png": "[encoded data removed]",
      "text/plain": [
       "<Figure size 1600x800 with 1 Axes>"
      ]
     },
     "metadata": {},
     "output_type": "display_data"
    }
   ],
   "source": [
    "btc_df['开盘价格'].plot(label='BTC/USD', figsize=(16,8), title='收盘价格')\n",
    "eth_df['开盘价格'].plot(label='EHT/USD')\n",
    "doge_df['开盘价格'].plot(label='DOGE/USDT')\n",
    "plt.legend()"
   ]
  },
  {
   "cell_type": "code",
   "execution_count": 27,
   "id": "39fd4f21-7204-43f0-b090-b17070903a39",
   "metadata": {},
   "outputs": [
    {
     "data": {
      "text/plain": [
       "<matplotlib.legend.Legend at 0x22da6d81f40>"
      ]
     },
     "execution_count": 27,
     "metadata": {},
     "output_type": "execute_result"
    },
    {
     "data": {
      "image/png": "[encoded data removed]",
      "text/plain": [
       "<Figure size 1600x800 with 1 Axes>"
      ]
     },
     "metadata": {},
     "output_type": "display_data"
    }
   ],
   "source": [
    "btc_df['交易量'].plot(label='BTC/USD', figsize=(16,8), title='some')\n",
    "eth_df['交易量'].plot(label='EHT/USD')\n",
    "doge_df['交易量'].plot(label='DOGE/USDT')\n",
    "plt.legend()"
   ]
  },
  {
   "cell_type": "code",
   "execution_count": null,
   "id": "efcc7e59-4a90-4322-ae6b-fcb88a4feccf",
   "metadata": {},
   "outputs": [],
   "source": []
  },
  {
   "cell_type": "code",
   "execution_count": null,
   "id": "fe1d540e-cfa8-4278-86b3-5070c5571132",
   "metadata": {},
   "outputs": [],
   "source": []
  },
  {
   "cell_type": "code",
   "execution_count": 45,
   "id": "398aca65-fdc6-4c13-8b88-09f0e1113af4",
   "metadata": {},
   "outputs": [
    {
     "data": {
      "text/html": [
       "<div>\n",
       "<style scoped>\n",
       "    .dataframe tbody tr th:only-of-type {\n",
       "        vertical-align: middle;\n",
       "    }\n",
       "\n",
       "    .dataframe tbody tr th {\n",
       "        vertical-align: top;\n",
       "    }\n",
       "\n",
       "    .dataframe thead th {\n",
       "        text-align: right;\n",
       "    }\n",
       "</style>\n",
       "<table border=\"1\" class=\"dataframe\">\n",
       "  <thead>\n",
       "    <tr style=\"text-align: right;\">\n",
       "      <th></th>\n",
       "      <th>BTC/USD</th>\n",
       "      <th>ETH/USD</th>\n",
       "      <th>DOGE/USDT</th>\n",
       "    </tr>\n",
       "    <tr>\n",
       "      <th>datetime</th>\n",
       "      <th></th>\n",
       "      <th></th>\n",
       "      <th></th>\n",
       "    </tr>\n",
       "  </thead>\n",
       "  <tbody>\n",
       "    <tr>\n",
       "      <th>2025-01-07 16:00:00</th>\n",
       "      <td>NaN</td>\n",
       "      <td>NaN</td>\n",
       "      <td>NaN</td>\n",
       "    </tr>\n",
       "    <tr>\n",
       "      <th>2025-01-06 16:00:00</th>\n",
       "      <td>NaN</td>\n",
       "      <td>NaN</td>\n",
       "      <td>NaN</td>\n",
       "    </tr>\n",
       "    <tr>\n",
       "      <th>2025-01-05 16:00:00</th>\n",
       "      <td>NaN</td>\n",
       "      <td>NaN</td>\n",
       "      <td>NaN</td>\n",
       "    </tr>\n",
       "    <tr>\n",
       "      <th>2025-01-04 16:00:00</th>\n",
       "      <td>NaN</td>\n",
       "      <td>NaN</td>\n",
       "      <td>NaN</td>\n",
       "    </tr>\n",
       "    <tr>\n",
       "      <th>2025-01-03 16:00:00</th>\n",
       "      <td>NaN</td>\n",
       "      <td>NaN</td>\n",
       "      <td>NaN</td>\n",
       "    </tr>\n",
       "  </tbody>\n",
       "</table>\n",
       "</div>"
      ],
      "text/plain": [
       "                    BTC/USD ETH/USD DOGE/USDT\n",
       "datetime                                     \n",
       "2025-01-07 16:00:00     NaN     NaN       NaN\n",
       "2025-01-06 16:00:00     NaN     NaN       NaN\n",
       "2025-01-05 16:00:00     NaN     NaN       NaN\n",
       "2025-01-04 16:00:00     NaN     NaN       NaN\n",
       "2025-01-03 16:00:00     NaN     NaN       NaN"
      ]
     },
     "execution_count": 45,
     "metadata": {},
     "output_type": "execute_result"
    }
   ],
   "source": [
    "coins_index = doge_df.index\n",
    "coins_df = pd.DataFrame(columns=['BTC/USD', 'ETH/USD', 'DOGE/USDT'], index=doge_df.index)\n",
    "coins_df.head()"
   ]
  },
  {
   "cell_type": "code",
   "execution_count": 46,
   "id": "7087fa56-8398-4290-9311-97f14df9a7fa",
   "metadata": {},
   "outputs": [],
   "source": [
    "coins_df['BTC/USD'] = btc_df['开盘价格']\n",
    "coins_df['ETH/USD'] = eth_df['开盘价格']\n",
    "coins_df['DOGE/USDT'] = doge_df['开盘价格']"
   ]
  },
  {
   "cell_type": "code",
   "execution_count": 47,
   "id": "585f4124-b34d-4300-b30b-1511a681d782",
   "metadata": {},
   "outputs": [
    {
     "data": {
      "text/html": [
       "<div>\n",
       "<style scoped>\n",
       "    .dataframe tbody tr th:only-of-type {\n",
       "        vertical-align: middle;\n",
       "    }\n",
       "\n",
       "    .dataframe tbody tr th {\n",
       "        vertical-align: top;\n",
       "    }\n",
       "\n",
       "    .dataframe thead th {\n",
       "        text-align: right;\n",
       "    }\n",
       "</style>\n",
       "<table border=\"1\" class=\"dataframe\">\n",
       "  <thead>\n",
       "    <tr style=\"text-align: right;\">\n",
       "      <th></th>\n",
       "      <th>BTC/USD</th>\n",
       "      <th>ETH/USD</th>\n",
       "      <th>DOGE/USDT</th>\n",
       "    </tr>\n",
       "    <tr>\n",
       "      <th>datetime</th>\n",
       "      <th></th>\n",
       "      <th></th>\n",
       "      <th></th>\n",
       "    </tr>\n",
       "  </thead>\n",
       "  <tbody>\n",
       "    <tr>\n",
       "      <th>2025-01-07 16:00:00</th>\n",
       "      <td>97822.8</td>\n",
       "      <td>3461.33</td>\n",
       "      <td>0.36399</td>\n",
       "    </tr>\n",
       "    <tr>\n",
       "      <th>2025-01-06 16:00:00</th>\n",
       "      <td>102214.0</td>\n",
       "      <td>3716.92</td>\n",
       "      <td>0.38951</td>\n",
       "    </tr>\n",
       "    <tr>\n",
       "      <th>2025-01-05 16:00:00</th>\n",
       "      <td>98071.2</td>\n",
       "      <td>3628.01</td>\n",
       "      <td>0.38363</td>\n",
       "    </tr>\n",
       "    <tr>\n",
       "      <th>2025-01-04 16:00:00</th>\n",
       "      <td>97679.7</td>\n",
       "      <td>3618.74</td>\n",
       "      <td>0.37940</td>\n",
       "    </tr>\n",
       "    <tr>\n",
       "      <th>2025-01-03 16:00:00</th>\n",
       "      <td>97593.4</td>\n",
       "      <td>3567.17</td>\n",
       "      <td>0.36611</td>\n",
       "    </tr>\n",
       "  </tbody>\n",
       "</table>\n",
       "</div>"
      ],
      "text/plain": [
       "                      BTC/USD  ETH/USD  DOGE/USDT\n",
       "datetime                                         \n",
       "2025-01-07 16:00:00   97822.8  3461.33    0.36399\n",
       "2025-01-06 16:00:00  102214.0  3716.92    0.38951\n",
       "2025-01-05 16:00:00   98071.2  3628.01    0.38363\n",
       "2025-01-04 16:00:00   97679.7  3618.74    0.37940\n",
       "2025-01-03 16:00:00   97593.4  3567.17    0.36611"
      ]
     },
     "execution_count": 47,
     "metadata": {},
     "output_type": "execute_result"
    }
   ],
   "source": [
    "coins_df.head()"
   ]
  },
  {
   "cell_type": "code",
   "execution_count": 48,
   "id": "75c330f5-1c07-41c1-ae24-9ca6652fd187",
   "metadata": {},
   "outputs": [
    {
     "data": {
      "image/png": "[encoded data removed]",
      "text/plain": [
       "<Figure size 1000x1000 with 9 Axes>"
      ]
     },
     "metadata": {},
     "output_type": "display_data"
    }
   ],
   "source": [
    "scatter_matrix(coins_df, figsize=(10,10), hist_kwds={'bins':50});"
   ]
  },
  {
   "cell_type": "code",
   "execution_count": null,
   "id": "805bb6b9-4ba3-4b99-9fac-2064b3a98130",
   "metadata": {},
   "outputs": [],
   "source": []
  }
 ],
 "metadata": {
  "kernelspec": {
   "display_name": "Python 3 (ipykernel)",
   "language": "python",
   "name": "python3"
  },
  "language_info": {
   "codemirror_mode": {
    "name": "ipython",
    "version": 3
   },
   "file_extension": ".py",
   "mimetype": "text/x-python",
   "name": "python",
   "nbconvert_exporter": "python",
   "pygments_lexer": "ipython3",
   "version": "3.12.7"
  }
 },
 "nbformat": 4,
 "nbformat_minor": 5
}
